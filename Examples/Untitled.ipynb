{
 "cells": [
  {
   "cell_type": "markdown",
   "metadata": {},
   "source": [
    "# Observing-Suite\n",
    "\n",
    "A suite of tools for planning and carrying out astronomical observations, building on astropy and inspired by astroplan.\n",
    "\n",
    "This package is built around three core classes: `Target()`, where one specifies astronomical targets and various configurations of desired target, `ObservingPlan()`, which ingests a target list, sets up the observatory and nights of observation, creates *beautiful* html observing plans (with airmass plots, finder charts, etc) and exports observatory-ready target lists for all unique configurations, and `ObservingLog()`, which spawns an easy to use, but highly flexible, html entry tool that saves an observing log during the night.\n",
    "\n",
    "Numerous convenience functions exist at each stage: my goal is to make it as easy as possible for me (and others) to set up complex observing runs yet keep track of everything. Some elements of this package are made better with instrument specific and observatory specific information. For now, Keck Observatory and Palomar Observatory are the two \"most supported\". I'll happily add more if people are interested and can provide, e.g., the template for that observatory's targetlist.\n",
    "\n",
    "## Dependencies\n",
    "Use of the observing-suite relies on the following\n",
    "\n",
    "- numpy \n",
    "- matplotlib\n",
    "- astropy\n",
    "- pandas\n",
    "- photutils\n",
    "\n",
    "## Usage\n",
    "Below, I demonstrate some of the basic usage of the tool.\n",
    "\n",
    "### The Target() Class \n",
    "\n",
    "Our observing plan (later on) is going to ingest a list of `Target`s. Let's go ahead and define one, and see what convenience functions exist. As a note, if your observations are in the vicinity of a known (i.e., resolvable by `Simbad`) source, you can simply enter the name, leaving the `parse_name` argument to `True`:"
   ]
  },
  {
   "cell_type": "code",
   "execution_count": 1,
   "metadata": {},
   "outputs": [],
   "source": [
    "from observing_suite import Target, ObservingPlan"
   ]
  },
  {
   "cell_type": "code",
   "execution_count": 2,
   "metadata": {},
   "outputs": [],
   "source": [
    "m82 = Target('M82')"
   ]
  },
  {
   "cell_type": "markdown",
   "metadata": {},
   "source": [
    "With our target defined, we also have a set of coordinates that are accessible (this worked because the resolved name provided the coordinates). "
   ]
  },
  {
   "cell_type": "code",
   "execution_count": 4,
   "metadata": {},
   "outputs": [
    {
     "data": {
      "text/plain": [
       "'148.968 69.6797'"
      ]
     },
     "execution_count": 4,
     "metadata": {},
     "output_type": "execute_result"
    }
   ],
   "source": [
    "m82.coordinates.to_string()"
   ]
  },
  {
   "cell_type": "markdown",
   "metadata": {},
   "source": [
    "The coordinates are standard `astropy.coordinates.SkyCoord` objects. Naturally, you can provide `SkyCoord` objects directly into the `Target` class:"
   ]
  },
  {
   "cell_type": "code",
   "execution_count": 7,
   "metadata": {},
   "outputs": [],
   "source": [
    "from astropy.coordinates import SkyCoord\n",
    "import astropy.units as u\n",
    "target_coord = SkyCoord('148.152 70.1215',unit='deg')\n",
    "\n",
    "custom_target = Target(name='my galaxy',coordinates=target_coord,parse_name=False)"
   ]
  },
  {
   "cell_type": "markdown",
   "metadata": {},
   "source": [
    "And finally, `Target()` provides the ability to supply coordinates without invoking SkyCoord directly. You can pass a string of coordinates (ra and dec), along with the keyword argument `coord_units`, which get fed to `SkyCoord`. "
   ]
  },
  {
   "cell_type": "code",
   "execution_count": 9,
   "metadata": {},
   "outputs": [],
   "source": [
    "final_target = Target(name='final_galaxy',coordinates='147.225 68.4242',coord_units=(u.deg,u.deg),parse_name=False)"
   ]
  },
  {
   "cell_type": "markdown",
   "metadata": {},
   "source": [
    "In this case, I've demonstrated you can pass `coord_units` as a tuple of `astropy.Quantity` objects, but in this case, the string `'deg'` would've been fine too. \n",
    "\n",
    "Also notice that I've given these `Target`s names --- this will allow us to display and organize our targets moving forward.\n",
    "\n",
    "### Adding Configurations\n",
    "\n",
    "Every `Target` must have at least 1 valid `configuration`. A configuration refers to a specific way in which this object will be observed. One can add as many configurations as desired, which can be useful if, for example, you wish to perform spectroscopy on a target with varying PA angles or slit widths or gratings, or image a source in different filters. \n",
    "\n",
    "Let's add a configuration now. The most basic form of configuration doesn't specify *any* additional parameters:"
   ]
  },
  {
   "cell_type": "code",
   "execution_count": 10,
   "metadata": {},
   "outputs": [],
   "source": [
    "m82.add_configuration(config_name='primary')"
   ]
  },
  {
   "cell_type": "markdown",
   "metadata": {},
   "source": [
    "Notice that we also name our configurations, which will matter later for organization. At any time, we can visualize the configurations we've defined by the attribute"
   ]
  },
  {
   "cell_type": "code",
   "execution_count": 11,
   "metadata": {},
   "outputs": [
    {
     "data": {
      "text/html": [
       "<div>\n",
       "<style scoped>\n",
       "    .dataframe tbody tr th:only-of-type {\n",
       "        vertical-align: middle;\n",
       "    }\n",
       "\n",
       "    .dataframe tbody tr th {\n",
       "        vertical-align: top;\n",
       "    }\n",
       "\n",
       "    .dataframe thead th {\n",
       "        text-align: right;\n",
       "    }\n",
       "</style>\n",
       "<table border=\"1\" class=\"dataframe\">\n",
       "  <thead>\n",
       "    <tr style=\"text-align: right;\">\n",
       "      <th></th>\n",
       "      <th>obstype</th>\n",
       "      <th>coordinates</th>\n",
       "    </tr>\n",
       "    <tr>\n",
       "      <th>configurations</th>\n",
       "      <th></th>\n",
       "      <th></th>\n",
       "    </tr>\n",
       "  </thead>\n",
       "  <tbody>\n",
       "    <tr>\n",
       "      <th>primary</th>\n",
       "      <td>---</td>\n",
       "      <td>148.968 69.6797</td>\n",
       "    </tr>\n",
       "  </tbody>\n",
       "</table>\n",
       "</div>"
      ],
      "text/plain": [
       "               obstype      coordinates\n",
       "configurations                         \n",
       "primary            ---  148.968 69.6797"
      ]
     },
     "execution_count": 11,
     "metadata": {},
     "output_type": "execute_result"
    }
   ],
   "source": [
    "m82.configurations"
   ]
  },
  {
   "cell_type": "markdown",
   "metadata": {},
   "source": [
    "or by running the explicit method"
   ]
  },
  {
   "cell_type": "code",
   "execution_count": 12,
   "metadata": {},
   "outputs": [
    {
     "data": {
      "text/html": [
       "<div>\n",
       "<style scoped>\n",
       "    .dataframe tbody tr th:only-of-type {\n",
       "        vertical-align: middle;\n",
       "    }\n",
       "\n",
       "    .dataframe tbody tr th {\n",
       "        vertical-align: top;\n",
       "    }\n",
       "\n",
       "    .dataframe thead th {\n",
       "        text-align: right;\n",
       "    }\n",
       "</style>\n",
       "<table border=\"1\" class=\"dataframe\">\n",
       "  <thead>\n",
       "    <tr style=\"text-align: right;\">\n",
       "      <th></th>\n",
       "      <th>obstype</th>\n",
       "      <th>coordinates</th>\n",
       "    </tr>\n",
       "    <tr>\n",
       "      <th>configurations</th>\n",
       "      <th></th>\n",
       "      <th></th>\n",
       "    </tr>\n",
       "  </thead>\n",
       "  <tbody>\n",
       "    <tr>\n",
       "      <th>primary</th>\n",
       "      <td>---</td>\n",
       "      <td>148.968 69.6797</td>\n",
       "    </tr>\n",
       "  </tbody>\n",
       "</table>\n",
       "</div>"
      ],
      "text/plain": [
       "               obstype      coordinates\n",
       "configurations                         \n",
       "primary            ---  148.968 69.6797"
      ]
     },
     "execution_count": 12,
     "metadata": {},
     "output_type": "execute_result"
    }
   ],
   "source": [
    "m82.list_configurations()"
   ]
  },
  {
   "cell_type": "markdown",
   "metadata": {},
   "source": [
    "The configurations are visualized using `pandas.DataFrame`s, and you can take these frames and work with them as you wish. However, note that the DataFrame is only a *view* of your configurations, and modifying the returned frame doesn't modify your underlying configurations. \n",
    "\n",
    "We can notice here that this configuration has an `obstype` (unfilled), and `coordinates`, which were automagically set --- because we didn't specify any here, *and* the target itself had coordinates defined, they were pulled from there. It would've been `None` if we had initialized our `Target` without any coordinates (e.g., by supplying a non-parsed name and not providing coordinates). \n",
    "\n",
    "The configurations are supposed to be as flexible as possible, but certain *special* keywords also unlock special convenience functions. Let's re-do our primary configuration with some more flair:"
   ]
  },
  {
   "cell_type": "code",
   "execution_count": 15,
   "metadata": {},
   "outputs": [
    {
     "name": "stdin",
     "output_type": "stream",
     "text": [
      "Config Name primary already a configuration. Overwrite? [Enter yes, N for no]:  \n"
     ]
    }
   ],
   "source": [
    "m82.add_configuration(config_name='primary',\n",
    "                      obstype='spectroscopy',\n",
    "                      slit_length=128*u.arcsec,\n",
    "                      slit_width=1.5*u.arcsec,\n",
    "                      PA=60*u.deg)"
   ]
  },
  {
   "cell_type": "markdown",
   "metadata": {},
   "source": [
    "Notice that we got a nice warning about overwriting our previous configuration with the same name! "
   ]
  },
  {
   "cell_type": "code",
   "execution_count": 16,
   "metadata": {},
   "outputs": [
    {
     "data": {
      "text/html": [
       "<div>\n",
       "<style scoped>\n",
       "    .dataframe tbody tr th:only-of-type {\n",
       "        vertical-align: middle;\n",
       "    }\n",
       "\n",
       "    .dataframe tbody tr th {\n",
       "        vertical-align: top;\n",
       "    }\n",
       "\n",
       "    .dataframe thead th {\n",
       "        text-align: right;\n",
       "    }\n",
       "</style>\n",
       "<table border=\"1\" class=\"dataframe\">\n",
       "  <thead>\n",
       "    <tr style=\"text-align: right;\">\n",
       "      <th></th>\n",
       "      <th>obstype</th>\n",
       "      <th>coordinates</th>\n",
       "      <th>slit_length</th>\n",
       "      <th>slit_width</th>\n",
       "      <th>PA</th>\n",
       "    </tr>\n",
       "    <tr>\n",
       "      <th>configurations</th>\n",
       "      <th></th>\n",
       "      <th></th>\n",
       "      <th></th>\n",
       "      <th></th>\n",
       "      <th></th>\n",
       "    </tr>\n",
       "  </thead>\n",
       "  <tbody>\n",
       "    <tr>\n",
       "      <th>primary</th>\n",
       "      <td>spectroscopy</td>\n",
       "      <td>148.968 69.6797</td>\n",
       "      <td>128.0 arcsec</td>\n",
       "      <td>1.5 arcsec</td>\n",
       "      <td>60.0 deg</td>\n",
       "    </tr>\n",
       "  </tbody>\n",
       "</table>\n",
       "</div>"
      ],
      "text/plain": [
       "                     obstype      coordinates   slit_length  slit_width  \\\n",
       "configurations                                                            \n",
       "primary         spectroscopy  148.968 69.6797  128.0 arcsec  1.5 arcsec   \n",
       "\n",
       "                      PA  \n",
       "configurations            \n",
       "primary         60.0 deg  "
      ]
     },
     "execution_count": 16,
     "metadata": {},
     "output_type": "execute_result"
    }
   ],
   "source": [
    "m82.configurations"
   ]
  },
  {
   "cell_type": "markdown",
   "metadata": {},
   "source": [
    "We now have a more interesting configuration set for our \"primary\" configuration. I want to stress that the `add_configuration()` method will allow you to add any number of extra keywords and values, which will then be stored and accesible. So whatever quick-look info is useful to your observations, you should add. \n",
    "\n",
    "Let's add a secondary configuration:"
   ]
  },
  {
   "cell_type": "code",
   "execution_count": 17,
   "metadata": {},
   "outputs": [],
   "source": [
    "m82.add_configuration(config_name='secondary',\n",
    "                      obstype='spectroscopy',\n",
    "                      slit_length=128*u.arcsec,\n",
    "                      slit_width=4*u.arcsec,\n",
    "                      PA=120*u.deg)"
   ]
  },
  {
   "cell_type": "code",
   "execution_count": 18,
   "metadata": {},
   "outputs": [
    {
     "data": {
      "text/html": [
       "<div>\n",
       "<style scoped>\n",
       "    .dataframe tbody tr th:only-of-type {\n",
       "        vertical-align: middle;\n",
       "    }\n",
       "\n",
       "    .dataframe tbody tr th {\n",
       "        vertical-align: top;\n",
       "    }\n",
       "\n",
       "    .dataframe thead th {\n",
       "        text-align: right;\n",
       "    }\n",
       "</style>\n",
       "<table border=\"1\" class=\"dataframe\">\n",
       "  <thead>\n",
       "    <tr style=\"text-align: right;\">\n",
       "      <th></th>\n",
       "      <th>obstype</th>\n",
       "      <th>coordinates</th>\n",
       "      <th>slit_length</th>\n",
       "      <th>slit_width</th>\n",
       "      <th>PA</th>\n",
       "    </tr>\n",
       "    <tr>\n",
       "      <th>configurations</th>\n",
       "      <th></th>\n",
       "      <th></th>\n",
       "      <th></th>\n",
       "      <th></th>\n",
       "      <th></th>\n",
       "    </tr>\n",
       "  </thead>\n",
       "  <tbody>\n",
       "    <tr>\n",
       "      <th>primary</th>\n",
       "      <td>spectroscopy</td>\n",
       "      <td>148.968 69.6797</td>\n",
       "      <td>128.0 arcsec</td>\n",
       "      <td>1.5 arcsec</td>\n",
       "      <td>60.0 deg</td>\n",
       "    </tr>\n",
       "    <tr>\n",
       "      <th>secondary</th>\n",
       "      <td>spectroscopy</td>\n",
       "      <td>148.968 69.6797</td>\n",
       "      <td>128.0 arcsec</td>\n",
       "      <td>4.0 arcsec</td>\n",
       "      <td>120.0 deg</td>\n",
       "    </tr>\n",
       "  </tbody>\n",
       "</table>\n",
       "</div>"
      ],
      "text/plain": [
       "                     obstype      coordinates   slit_length  slit_width  \\\n",
       "configurations                                                            \n",
       "primary         spectroscopy  148.968 69.6797  128.0 arcsec  1.5 arcsec   \n",
       "secondary       spectroscopy  148.968 69.6797  128.0 arcsec  4.0 arcsec   \n",
       "\n",
       "                       PA  \n",
       "configurations             \n",
       "primary          60.0 deg  \n",
       "secondary       120.0 deg  "
      ]
     },
     "execution_count": 18,
     "metadata": {},
     "output_type": "execute_result"
    }
   ],
   "source": [
    "m82.configurations"
   ]
  },
  {
   "cell_type": "markdown",
   "metadata": {},
   "source": [
    "We now have a new configuration, specifying new slit width and PA. Nothing stops us from adding unique columns that only apply to some configurations:"
   ]
  },
  {
   "cell_type": "code",
   "execution_count": 20,
   "metadata": {},
   "outputs": [
    {
     "data": {
      "text/html": [
       "<div>\n",
       "<style scoped>\n",
       "    .dataframe tbody tr th:only-of-type {\n",
       "        vertical-align: middle;\n",
       "    }\n",
       "\n",
       "    .dataframe tbody tr th {\n",
       "        vertical-align: top;\n",
       "    }\n",
       "\n",
       "    .dataframe thead th {\n",
       "        text-align: right;\n",
       "    }\n",
       "</style>\n",
       "<table border=\"1\" class=\"dataframe\">\n",
       "  <thead>\n",
       "    <tr style=\"text-align: right;\">\n",
       "      <th></th>\n",
       "      <th>obstype</th>\n",
       "      <th>coordinates</th>\n",
       "      <th>slit_length</th>\n",
       "      <th>slit_width</th>\n",
       "      <th>PA</th>\n",
       "      <th>fiber_radius</th>\n",
       "    </tr>\n",
       "    <tr>\n",
       "      <th>configurations</th>\n",
       "      <th></th>\n",
       "      <th></th>\n",
       "      <th></th>\n",
       "      <th></th>\n",
       "      <th></th>\n",
       "      <th></th>\n",
       "    </tr>\n",
       "  </thead>\n",
       "  <tbody>\n",
       "    <tr>\n",
       "      <th>primary</th>\n",
       "      <td>spectroscopy</td>\n",
       "      <td>148.968 69.6797</td>\n",
       "      <td>128.0 arcsec</td>\n",
       "      <td>1.5 arcsec</td>\n",
       "      <td>60.0 deg</td>\n",
       "      <td>---</td>\n",
       "    </tr>\n",
       "    <tr>\n",
       "      <th>secondary</th>\n",
       "      <td>spectroscopy</td>\n",
       "      <td>148.968 69.6797</td>\n",
       "      <td>128.0 arcsec</td>\n",
       "      <td>4.0 arcsec</td>\n",
       "      <td>120.0 deg</td>\n",
       "      <td>---</td>\n",
       "    </tr>\n",
       "    <tr>\n",
       "      <th>tertiary</th>\n",
       "      <td>fiber spectroscopy</td>\n",
       "      <td>148.968 69.6797</td>\n",
       "      <td>---</td>\n",
       "      <td>---</td>\n",
       "      <td>---</td>\n",
       "      <td>30.0 arcsec</td>\n",
       "    </tr>\n",
       "  </tbody>\n",
       "</table>\n",
       "</div>"
      ],
      "text/plain": [
       "                           obstype      coordinates   slit_length  slit_width  \\\n",
       "configurations                                                                  \n",
       "primary               spectroscopy  148.968 69.6797  128.0 arcsec  1.5 arcsec   \n",
       "secondary             spectroscopy  148.968 69.6797  128.0 arcsec  4.0 arcsec   \n",
       "tertiary        fiber spectroscopy  148.968 69.6797           ---         ---   \n",
       "\n",
       "                       PA fiber_radius  \n",
       "configurations                          \n",
       "primary          60.0 deg          ---  \n",
       "secondary       120.0 deg          ---  \n",
       "tertiary              ---  30.0 arcsec  "
      ]
     },
     "execution_count": 20,
     "metadata": {},
     "output_type": "execute_result"
    }
   ],
   "source": [
    "m82.add_configuration(config_name='tertiary',\n",
    "                      obstype='fiber spectroscopy',\n",
    "                      fiber_radius=30*u.arcsec)\n",
    "m82.configurations"
   ]
  },
  {
   "cell_type": "markdown",
   "metadata": {},
   "source": [
    "This time, I've assumed we have a fiber with a radius, rather than a slit with a length and width. \n",
    "\n",
    "People familiar with faint object spectroscopy will be familiar with the concept of an offset star. You align on this (visible) source, and execute a blind offset to the target (hoping you got it right). \n",
    "\n",
    "We provide the functionality to add an offset star for any configuration, and the code will also calculate our offsets:"
   ]
  },
  {
   "cell_type": "code",
   "execution_count": 23,
   "metadata": {},
   "outputs": [
    {
     "data": {
      "text/html": [
       "<div>\n",
       "<style scoped>\n",
       "    .dataframe tbody tr th:only-of-type {\n",
       "        vertical-align: middle;\n",
       "    }\n",
       "\n",
       "    .dataframe tbody tr th {\n",
       "        vertical-align: top;\n",
       "    }\n",
       "\n",
       "    .dataframe thead th {\n",
       "        text-align: right;\n",
       "    }\n",
       "</style>\n",
       "<table border=\"1\" class=\"dataframe\">\n",
       "  <thead>\n",
       "    <tr style=\"text-align: right;\">\n",
       "      <th></th>\n",
       "      <th>obstype</th>\n",
       "      <th>coordinates</th>\n",
       "      <th>slit_length</th>\n",
       "      <th>slit_width</th>\n",
       "      <th>PA</th>\n",
       "      <th>offset star</th>\n",
       "      <th>offsets</th>\n",
       "      <th>fiber_radius</th>\n",
       "    </tr>\n",
       "    <tr>\n",
       "      <th>configurations</th>\n",
       "      <th></th>\n",
       "      <th></th>\n",
       "      <th></th>\n",
       "      <th></th>\n",
       "      <th></th>\n",
       "      <th></th>\n",
       "      <th></th>\n",
       "      <th></th>\n",
       "    </tr>\n",
       "  </thead>\n",
       "  <tbody>\n",
       "    <tr>\n",
       "      <th>primary</th>\n",
       "      <td>spectroscopy</td>\n",
       "      <td>148.968 69.6797</td>\n",
       "      <td>128.0 arcsec</td>\n",
       "      <td>1.5 arcsec</td>\n",
       "      <td>60.0 deg</td>\n",
       "      <td>148.928 69.6897</td>\n",
       "      <td>50.580 arcsec'' E, -35.973 arcsec'' N</td>\n",
       "      <td>---</td>\n",
       "    </tr>\n",
       "    <tr>\n",
       "      <th>secondary</th>\n",
       "      <td>spectroscopy</td>\n",
       "      <td>148.968 69.6797</td>\n",
       "      <td>128.0 arcsec</td>\n",
       "      <td>4.0 arcsec</td>\n",
       "      <td>120.0 deg</td>\n",
       "      <td>148.928 69.6897</td>\n",
       "      <td>50.580 arcsec'' E, -35.973 arcsec'' N</td>\n",
       "      <td>---</td>\n",
       "    </tr>\n",
       "    <tr>\n",
       "      <th>tertiary</th>\n",
       "      <td>fiber spectroscopy</td>\n",
       "      <td>148.968 69.6797</td>\n",
       "      <td>---</td>\n",
       "      <td>---</td>\n",
       "      <td>---</td>\n",
       "      <td>148.928 69.6897</td>\n",
       "      <td>50.580 arcsec'' E, -35.973 arcsec'' N</td>\n",
       "      <td>30.0 arcsec</td>\n",
       "    </tr>\n",
       "  </tbody>\n",
       "</table>\n",
       "</div>"
      ],
      "text/plain": [
       "                           obstype      coordinates   slit_length  slit_width  \\\n",
       "configurations                                                                  \n",
       "primary               spectroscopy  148.968 69.6797  128.0 arcsec  1.5 arcsec   \n",
       "secondary             spectroscopy  148.968 69.6797  128.0 arcsec  4.0 arcsec   \n",
       "tertiary        fiber spectroscopy  148.968 69.6797           ---         ---   \n",
       "\n",
       "                       PA      offset star  \\\n",
       "configurations                               \n",
       "primary          60.0 deg  148.928 69.6897   \n",
       "secondary       120.0 deg  148.928 69.6897   \n",
       "tertiary              ---  148.928 69.6897   \n",
       "\n",
       "                                              offsets fiber_radius  \n",
       "configurations                                                      \n",
       "primary         50.580 arcsec'' E, -35.973 arcsec'' N          ---  \n",
       "secondary       50.580 arcsec'' E, -35.973 arcsec'' N          ---  \n",
       "tertiary        50.580 arcsec'' E, -35.973 arcsec'' N  30.0 arcsec  "
      ]
     },
     "execution_count": 23,
     "metadata": {},
     "output_type": "execute_result"
    }
   ],
   "source": [
    "m82.add_offset_star(coordinate='148.928 69.6897',\n",
    "                    coord_units='deg',\n",
    "                    configurations='all')\n",
    "m82.configurations"
   ]
  },
  {
   "cell_type": "markdown",
   "metadata": {},
   "source": [
    "I've supplied the coordinates for our offset star, which in this case can be applied to all configurations, because all our configurations have the same coordinates. But if you have different specific coordinates for each configuration, it would calculate the offsets from that star to each. You can also specify to add offsets only to one, or some, configurations (via a string name, or a list of string names of configurations). \n",
    "\n",
    "### Removing and Editing Configurations \n",
    "\n",
    "There are some convenience methods to allow you to `remove_configuration(config_name)` and `edit_configuration(config_name,property,value)` which are pretty self-explanatory. Editing is not super useful — you might as well change and readd (overwrite) your entry for that configuration. \n",
    "\n",
    "### Retrieving Finder Charts \n",
    "\n",
    "We can retrieve a DSS image (finder chart) for any configuration which has coordinates defined. "
   ]
  },
  {
   "cell_type": "code",
   "execution_count": 24,
   "metadata": {},
   "outputs": [
    {
     "ename": "NameError",
     "evalue": "name 'SkyView' is not defined",
     "output_type": "error",
     "traceback": [
      "\u001b[0;31m---------------------------------------------------------------------------\u001b[0m",
      "\u001b[0;31mNameError\u001b[0m                                 Traceback (most recent call last)",
      "\u001b[0;32m<ipython-input-24-2277f33c284f>\u001b[0m in \u001b[0;36m<module>\u001b[0;34m\u001b[0m\n\u001b[0;32m----> 1\u001b[0;31m m82.retrieve_finder_chart(config_name='primary',\n\u001b[0m\u001b[1;32m      2\u001b[0m                          \u001b[0msize\u001b[0m\u001b[0;34m=\u001b[0m\u001b[0;36m10\u001b[0m\u001b[0;34m*\u001b[0m\u001b[0mu\u001b[0m\u001b[0;34m.\u001b[0m\u001b[0marcmin\u001b[0m\u001b[0;34m,\u001b[0m\u001b[0;34m\u001b[0m\u001b[0;34m\u001b[0m\u001b[0m\n\u001b[1;32m      3\u001b[0m                          show_aperture=False)\n",
      "\u001b[0;32m~/git/observing-suite/observing_suite/target.py\u001b[0m in \u001b[0;36mretrieve_finder_chart\u001b[0;34m(self, config_name, size, pixels, show_aperture, **implot_kwargs)\u001b[0m\n\u001b[1;32m    215\u001b[0m       \u001b[0mthe\u001b[0m \u001b[0mfig\u001b[0m \u001b[0;32mand\u001b[0m \u001b[0max\u001b[0m \u001b[0mon\u001b[0m \u001b[0mwhich\u001b[0m \u001b[0mthe\u001b[0m \u001b[0mdss\u001b[0m \u001b[0mimage\u001b[0m \u001b[0;32mand\u001b[0m \u001b[0mpossible\u001b[0m \u001b[0maperture\u001b[0m \u001b[0mwas\u001b[0m \u001b[0mplotted\u001b[0m\u001b[0;34m.\u001b[0m\u001b[0;34m\u001b[0m\u001b[0;34m\u001b[0m\u001b[0m\n\u001b[1;32m    216\u001b[0m     '''\n\u001b[0;32m--> 217\u001b[0;31m     \u001b[0msv\u001b[0m \u001b[0;34m=\u001b[0m \u001b[0mSkyView\u001b[0m\u001b[0;34m(\u001b[0m\u001b[0;34m)\u001b[0m\u001b[0;34m\u001b[0m\u001b[0;34m\u001b[0m\u001b[0m\n\u001b[0m\u001b[1;32m    218\u001b[0m     paths = sv.get_images(position=self.configs[config_name]['coordinates'],\n\u001b[1;32m    219\u001b[0m                       \u001b[0msurvey\u001b[0m\u001b[0;34m=\u001b[0m\u001b[0;34m[\u001b[0m\u001b[0;34m'DSS'\u001b[0m\u001b[0;34m]\u001b[0m\u001b[0;34m,\u001b[0m\u001b[0;34m\u001b[0m\u001b[0;34m\u001b[0m\u001b[0m\n",
      "\u001b[0;31mNameError\u001b[0m: name 'SkyView' is not defined"
     ]
    }
   ],
   "source": [
    "m82.retrieve_finder_chart(config_name='primary',\n",
    "                         size=10*u.arcmin,\n",
    "                         show_aperture=False)"
   ]
  },
  {
   "cell_type": "code",
   "execution_count": null,
   "metadata": {},
   "outputs": [],
   "source": []
  }
 ],
 "metadata": {
  "kernelspec": {
   "display_name": "a330",
   "language": "python",
   "name": "a330"
  },
  "language_info": {
   "codemirror_mode": {
    "name": "ipython",
    "version": 3
   },
   "file_extension": ".py",
   "mimetype": "text/x-python",
   "name": "python",
   "nbconvert_exporter": "python",
   "pygments_lexer": "ipython3",
   "version": "3.8.11"
  }
 },
 "nbformat": 4,
 "nbformat_minor": 4
}
